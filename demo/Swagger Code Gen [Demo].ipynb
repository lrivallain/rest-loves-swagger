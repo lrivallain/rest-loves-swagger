{
 "cells": [
  {
   "cell_type": "markdown",
   "metadata": {
    "slideshow": {
     "slide_type": "slide"
    }
   },
   "source": [
    "# Votre SDK en 2 minutes ⏱!"
   ]
  },
  {
   "cell_type": "markdown",
   "metadata": {
    "slideshow": {
     "slide_type": "subslide"
    }
   },
   "source": [
    "#### N.D.L.R.: Pour la démo…\n",
    "<!-- .slide: data-background=\"#2E2E2E\" data-state=\"nologo-slide\" style=\"text-align: center;\" -->\n",
    "… j'ai choisi *CodeGen* pour la diversité des languages de sortie qu'il propose.\n",
    "\n",
    "Mais Azure/Autorest fait tout aussi bien le travail."
   ]
  },
  {
   "cell_type": "markdown",
   "metadata": {
    "slideshow": {
     "slide_type": "subslide"
    }
   },
   "source": [
    "### Prérequis\n",
    "\n",
    "On créé un dossier pour notre démo avec un sous dossier pour les \"`in`puts\" et un autre pour les les \"`out`puts\"."
   ]
  },
  {
   "cell_type": "code",
   "execution_count": null,
   "metadata": {
    "scrolled": true,
    "slideshow": {
     "slide_type": "fragment"
    }
   },
   "outputs": [],
   "source": [
    "!mkdir -p codegen/in/ codegen/out/\n",
    "!ls codegen/"
   ]
  },
  {
   "cell_type": "markdown",
   "metadata": {
    "slideshow": {
     "slide_type": "subslide"
    }
   },
   "source": [
    "## Swagger-codegen / docker\n",
    "\n",
    "On récupère l'image docker de `swagger-codegen`:"
   ]
  },
  {
   "cell_type": "code",
   "execution_count": null,
   "metadata": {
    "scrolled": true,
    "slideshow": {
     "slide_type": "fragment"
    }
   },
   "outputs": [],
   "source": [
    "!docker pull swaggerapi/swagger-codegen-cli"
   ]
  },
  {
   "cell_type": "markdown",
   "metadata": {
    "slideshow": {
     "slide_type": "subslide"
    }
   },
   "source": [
    "Quels langages sont supportés en sortie:"
   ]
  },
  {
   "cell_type": "code",
   "execution_count": null,
   "metadata": {
    "scrolled": true,
    "slideshow": {
     "slide_type": "fragment"
    }
   },
   "outputs": [],
   "source": [
    "!docker run --rm swaggerapi/swagger-codegen-cli langs | sed 's/,/\\n    /g'"
   ]
  },
  {
   "cell_type": "markdown",
   "metadata": {
    "slideshow": {
     "slide_type": "slide"
    }
   },
   "source": [
    "## Chuck Norris\n",
    "\n",
    "![chucknorrisio_logo.png](./images/chucknorrisio_logo.png)<!-- .element style=\"max-width:50%;\" -->\n",
    "<!-- .slide: class=\"centered\" -->"
   ]
  },
  {
   "cell_type": "markdown",
   "metadata": {
    "slideshow": {
     "slide_type": "subslide"
    }
   },
   "source": [
    "Ici on va:\n",
    "\n",
    "1. récupérer la doc de l'API,\n",
    "2. la formater un peu (`| python -m json.tool`)\n",
    "3. la stocker\n",
    "4. afficher quelques lignes"
   ]
  },
  {
   "cell_type": "code",
   "execution_count": null,
   "metadata": {
    "scrolled": false,
    "slideshow": {
     "slide_type": "subslide"
    }
   },
   "outputs": [],
   "source": [
    "!curl -s https://api.chucknorris.io/documentation | python -m json.tool > codegen/in/chucknorris.json\n",
    "!head -n 25 codegen/in/chucknorris.json"
   ]
  },
  {
   "cell_type": "markdown",
   "metadata": {
    "slideshow": {
     "slide_type": "subslide"
    }
   },
   "source": [
    "On crée un fichier de configuration pour notre futur paquet python:"
   ]
  },
  {
   "cell_type": "code",
   "execution_count": null,
   "metadata": {
    "scrolled": true,
    "slideshow": {
     "slide_type": "fragment"
    }
   },
   "outputs": [],
   "source": [
    "%%bash\n",
    "echo '{\n",
    "  \"packageName\":\"chucknorris_client\",\n",
    "  \"projectName\":\"chucknorris-client\",\n",
    "  \"packageVersion\":\"1.0.0\"\n",
    "}' > codegen/in/config_chucknorris_client.json\n",
    "\n",
    "cat codegen/in/config_chucknorris_client.json"
   ]
  },
  {
   "cell_type": "code",
   "execution_count": null,
   "metadata": {
    "scrolled": true,
    "slideshow": {
     "slide_type": "subslide"
    }
   },
   "outputs": [],
   "source": [
    "%%bash\n",
    "docker run --rm -v ${PWD}/codegen:/local \\\n",
    "  swaggerapi/swagger-codegen-cli generate \\\n",
    "    -i /local/in/chucknorris.json \\\n",
    "    -o /local/out/python-chucknorris \\\n",
    "    -c /local/in/config_chucknorris_client.json \\\n",
    "    -l python"
   ]
  },
  {
   "cell_type": "markdown",
   "metadata": {
    "slideshow": {
     "slide_type": "subslide"
    }
   },
   "source": [
    "Le résultat c'est un nouveau module python !"
   ]
  },
  {
   "cell_type": "code",
   "execution_count": null,
   "metadata": {
    "scrolled": true,
    "slideshow": {
     "slide_type": "fragment"
    }
   },
   "outputs": [],
   "source": [
    "!ls codegen/out/python-chucknorris/"
   ]
  },
  {
   "cell_type": "code",
   "execution_count": null,
   "metadata": {
    "scrolled": true,
    "slideshow": {
     "slide_type": "fragment"
    }
   },
   "outputs": [],
   "source": [
    "!head -n 10 codegen/out/python-chucknorris/setup.py"
   ]
  },
  {
   "cell_type": "code",
   "execution_count": null,
   "metadata": {
    "scrolled": true,
    "slideshow": {
     "slide_type": "fragment"
    }
   },
   "outputs": [],
   "source": [
    "!pip install codegen/out/python-chucknorris/"
   ]
  },
  {
   "cell_type": "code",
   "execution_count": null,
   "metadata": {
    "scrolled": false,
    "slideshow": {
     "slide_type": "subslide"
    }
   },
   "outputs": [],
   "source": [
    "import chucknorris_client\n",
    "from chucknorris_client.rest import ApiException\n",
    "\n",
    "from utils import *\n",
    "logger = logging.getLogger(\"DEMO_CHUCKNORRIS\")\n",
    "\n",
    "# Configure API\n",
    "logger.debug(\"Create an API client\")\n",
    "client = chucknorris_client.ApiClient(chucknorris_client.Configuration())\n",
    "\n",
    "logger.debug(\"Target the Joke Controller\")\n",
    "api_instance = chucknorris_client.JokeControllerApi(client)\n",
    "\n",
    "try:\n",
    "    logger.debug(\"Get a random joke:\")\n",
    "    api_response = api_instance.get_random_joke_value_using_get()\n",
    "    logger.info(api_response)\n",
    "except ApiException as e:\n",
    "    logger.error(\n",
    "        \"Exception when calling JokeControllerApi->get_random_joke_value_using_get: %s\\n\" % e\n",
    "    )"
   ]
  },
  {
   "cell_type": "markdown",
   "metadata": {
    "slideshow": {
     "slide_type": "subslide"
    }
   },
   "source": [
    "### En Go ?"
   ]
  },
  {
   "cell_type": "code",
   "execution_count": null,
   "metadata": {
    "scrolled": true,
    "slideshow": {
     "slide_type": "fragment"
    }
   },
   "outputs": [],
   "source": [
    "%%bash\n",
    "docker run --rm -v ${PWD}/codegen:/local \\\n",
    "  swaggerapi/swagger-codegen-cli generate \\\n",
    "    -i /local/in/chucknorris.json \\\n",
    "    -o /local/out/gochucknorris \\\n",
    "    -DpackageName=gochucknorris \\\n",
    "    -l go"
   ]
  },
  {
   "cell_type": "code",
   "execution_count": null,
   "metadata": {
    "scrolled": true,
    "slideshow": {
     "slide_type": "subslide"
    }
   },
   "outputs": [],
   "source": [
    "%%bash\n",
    "echo 'package main\n",
    "\n",
    "import (\n",
    "    \"log\"\n",
    "    cn \"out/gochucknorris\"\n",
    "    \"golang.org/x/net/context\"\n",
    ")\n",
    "\n",
    "func main() {\n",
    "    log.Print(\"New API client with empty configuration\")\n",
    "    client := cn.NewAPIClient(cn.NewConfiguration())\n",
    "    log.Print(\"Get random joke\")\n",
    "    joke, r, err := client.JokeControllerApi.GetRandomJokeValueUsingGET(context.Background(), nil)\n",
    "    // Test error\n",
    "    if err != nil {\n",
    "        log.Print(\"Error:\", err)\n",
    "    }\n",
    "    // Test HTTP Response code\n",
    "    if r.StatusCode == 200 {\n",
    "        log.Print(joke.Value)\n",
    "    }\n",
    "}' > codegen/chuck.go"
   ]
  },
  {
   "cell_type": "code",
   "execution_count": null,
   "metadata": {
    "scrolled": true,
    "slideshow": {
     "slide_type": "subslide"
    }
   },
   "outputs": [],
   "source": [
    "!go run codegen/chuck.go"
   ]
  },
  {
   "cell_type": "markdown",
   "metadata": {
    "slideshow": {
     "slide_type": "slide"
    }
   },
   "source": [
    "![vmware.png](./images/vmware.png)<!-- .element style=\"max-width:35%;\" -->\n",
    "## vCenter\n",
    "\n",
    "La même chose en plus rapide avec l'API REST de VMware vCenter, un produit un peu plus complexe:"
   ]
  },
  {
   "cell_type": "code",
   "execution_count": null,
   "metadata": {
    "scrolled": true,
    "slideshow": {
     "slide_type": "subslide"
    }
   },
   "outputs": [],
   "source": [
    "%%bash\n",
    "# On récupère le descripteur de l'API\n",
    "curl -sk https://$VMWARE_VCENTER_HOSTNAME/apiexplorer/json/vcenter.json  \\\n",
    "  > codegen/in/vcenter.json\n",
    "\n",
    "# On prépare un fichier de configuration pour notre futur module\n",
    "echo '{\n",
    "  \"packageName\":\"vc_client\",\n",
    "  \"projectName\":\"vc-client\",\n",
    "  \"packageVersion\":\"6.7.0\"\n",
    "}' > codegen/in/config_vc_client.json\n",
    "\n",
    "# On génère notre SDK\n",
    "docker run --rm -v ${PWD}/codegen:/local \\\n",
    "  swaggerapi/swagger-codegen-cli generate \\\n",
    "    -i /local/in/vcenter.json \\\n",
    "    -o /local/out/python-vc \\\n",
    "    -c /local/in/config_vc_client.json \\\n",
    "    -l python\n",
    "\n",
    "# On installe le nouveau module\n",
    "pip install codegen/out/python-vc"
   ]
  },
  {
   "cell_type": "code",
   "execution_count": null,
   "metadata": {
    "scrolled": true,
    "slideshow": {
     "slide_type": "subslide"
    }
   },
   "outputs": [],
   "source": [
    "import vc_client\n",
    "from vc_client.rest import ApiException\n",
    "from utils import *\n",
    "import os\n",
    "logger = logging.getLogger(\"DEMO_VCENTER\")\n",
    "\n",
    "# Configure API\n",
    "configuration = vc_client.Configuration()\n",
    "configuration.verify_ssl = False\n",
    "configuration.host = f\"https://{os.environ.get('VMWARE_VCENTER_HOSTNAME')}/rest\"\n",
    "\n",
    "# credentials\n",
    "_username = os.environ.get('VMWARE_VCENTER_USERNAME')\n",
    "_password = os.environ.get('VMWARE_VCENTER_PASSWORD')\n",
    "auth_str = basic_auth_str(_username, _password)\n",
    "\n",
    "# Create a client\n",
    "client = vc_client.ApiClient(configuration)"
   ]
  },
  {
   "cell_type": "code",
   "execution_count": null,
   "metadata": {
    "scrolled": true,
    "slideshow": {
     "slide_type": "subslide"
    }
   },
   "outputs": [],
   "source": [
    "# Get a new session\n",
    "try:\n",
    "    logger.debug(\"Starting a new session\")\n",
    "    s = client.call_api(\n",
    "        '/com/vmware/cis/session',\n",
    "        \"POST\",\n",
    "        header_params={\n",
    "            \"Authorization\": auth_str,\n",
    "        })\n",
    "except ApiException as e:\n",
    "    print(\"Exception when creating session: %s\\n\" % e)\n",
    "    exit(-1)\n",
    "logger.info(\"New session is created\")\n",
    "\n",
    "# Set the cookie according to the previous request result\n",
    "logger.debug(\"Setting new session authorization token in cookies\")\n",
    "client.cookie = s[2].get('Set-Cookie')\n",
    "logger.info(f\"Client cookies updated: {client.cookie}\")"
   ]
  },
  {
   "cell_type": "code",
   "execution_count": null,
   "metadata": {
    "scrolled": true,
    "slideshow": {
     "slide_type": "subslide"
    }
   },
   "outputs": [],
   "source": [
    "# List VM\n",
    "logger.debug(\"Listing VMs...\")\n",
    "instance = vc_client.VM_Api(client)\n",
    "for vm in instance.list().value:\n",
    "    logger.info(\n",
    "        f\"{vm.name}: {vm.power_state} / vCPU: {vm.cpu_count} / Mem: {vm.memory_size_mi_b} Mb\"\n",
    "    )\n",
    "    keep_last = vm"
   ]
  },
  {
   "cell_type": "code",
   "execution_count": null,
   "metadata": {
    "scrolled": true,
    "slideshow": {
     "slide_type": "subslide"
    }
   },
   "outputs": [],
   "source": [
    "# Get more details for last VM\n",
    "logger.debug(\"Getting details about last VM...\")\n",
    "vm_detailled = instance.get(keep_last.vm).value\n",
    "logger.info(\"Data:\\n\" +\n",
    "            json.dumps(vm_detailled.to_dict(), indent=2, default=str))"
   ]
  },
  {
   "cell_type": "code",
   "execution_count": null,
   "metadata": {
    "scrolled": true,
    "slideshow": {
     "slide_type": "subslide"
    }
   },
   "outputs": [],
   "source": [
    "# Get its network\n",
    "logger.debug(\"Getting a specifc detail about a VM:\")\n",
    "nic = vm_detailled.nics[0].value\n",
    "logger.info(f\"{keep_last.name} MAC address: {nic.mac_address}\")"
   ]
  },
  {
   "cell_type": "markdown",
   "metadata": {
    "slideshow": {
     "slide_type": "slide"
    }
   },
   "source": [
    "![vmware.png](./images/vmware.png)<!-- .element style=\"max-width:35%;\" -->\n",
    "## vCloud Director\n",
    "\n",
    "Second test avec vCloud Director."
   ]
  },
  {
   "cell_type": "code",
   "execution_count": null,
   "metadata": {
    "scrolled": true,
    "slideshow": {
     "slide_type": "subslide"
    }
   },
   "outputs": [],
   "source": [
    "%%bash\n",
    "# On récupère le descripteur de la \"cloud API\"\n",
    "curl -sk https://$VMWARE_VCD_HOSTNAME/api-explorer/tenant/orgdemo02/cloudapi.json \\\n",
    "  > codegen/in/cloudapi.json\n",
    "\n",
    "# On prépare un fichier de configuration pour notre futur module\n",
    "echo '{\n",
    "  \"packageName\":\"vcd_client\",\n",
    "  \"projectName\":\"vcd-client\",\n",
    "  \"packageVersion\":\"9.7.1\"\n",
    "}' > codegen/in/config_vcd_client.json\n",
    "\n",
    "# On génère notre SDK\n",
    "docker run --rm -v ${PWD}/codegen:/local \\\n",
    "  swaggerapi/swagger-codegen-cli generate \\\n",
    "    -i /local/in/cloudapi.json \\\n",
    "    -o /local/out/python-vcd \\\n",
    "    -c /local/in/config_vcd_client.json \\\n",
    "    -l python\n",
    "\n",
    "# On installe le nouveau module\n",
    "pip install codegen/out/python-vcd"
   ]
  },
  {
   "cell_type": "code",
   "execution_count": null,
   "metadata": {
    "scrolled": true,
    "slideshow": {
     "slide_type": "subslide"
    }
   },
   "outputs": [],
   "source": [
    "import vcd_client\n",
    "from vcd_client.rest import ApiException\n",
    "from utils import *\n",
    "import os\n",
    "logger = logging.getLogger(\"DEMO_VCD\")\n",
    "\n",
    "# Configure API\n",
    "configuration = vcd_client.Configuration()\n",
    "configuration.verify_ssl = False\n",
    "configuration.host = f\"https://{os.environ.get('VMWARE_VCD_HOSTNAME')}/cloudapi\"\n",
    "\n",
    "# credentials\n",
    "_username = os.environ.get('VMWARE_VCD_USERNAME')\n",
    "_password = os.environ.get('VMWARE_VCD_PASSWORD')\n",
    "auth_str = basic_auth_str(_username, _password)\n",
    "\n",
    "# Create a client\n",
    "client = vcd_client.ApiClient(configuration)"
   ]
  },
  {
   "cell_type": "code",
   "execution_count": null,
   "metadata": {
    "scrolled": true,
    "slideshow": {
     "slide_type": "subslide"
    }
   },
   "outputs": [],
   "source": [
    "# Get a new session\n",
    "try:\n",
    "    logger.debug(\"Starting a new session\")\n",
    "    s = vcd_client.SessionsApi(client)\n",
    "    s_headers = s.login_with_http_info(authorization=auth_str)[2]\n",
    "except ApiException as e:\n",
    "    print(\"Exception when creating session: %s\\n\" % e)\n",
    "    exit(-1)\n",
    "logger.info(\"New session is created\")\n",
    "\n",
    "# Update client with access token\n",
    "logger.debug(\"Setting new session authorization token in headers\")\n",
    "configuration.api_key_prefix['Authorization'] = 'Bearer'\n",
    "configuration.api_key['Authorization'] = s_headers.get(\n",
    "    \"X-VMWARE-VCLOUD-ACCESS-TOKEN\"\n",
    ")\n",
    "client = vcd_client.ApiClient(configuration)\n",
    "logger.info(f\"Client credentials updated to use access token: {s_headers.get('X-VMWARE-VCLOUD-ACCESS-TOKEN')}\")"
   ]
  },
  {
   "cell_type": "code",
   "execution_count": null,
   "metadata": {
    "scrolled": true,
    "slideshow": {
     "slide_type": "subslide"
    }
   },
   "outputs": [],
   "source": [
    "# List rights of the current user\n",
    "logger.debug(\"Getting rights of the current user\")\n",
    "rapi = vcd_client.RightsApi(client)\n",
    "page, page_size = 1, 25\n",
    "try:\n",
    "    for right in rapi.query_rights(page, page_size).values:\n",
    "        logger.info(\" - \".join([right.name, right.id, right.right_type]))\n",
    "except ApiException as e:\n",
    "    logger.error(\"Exception when calling RightsApi->query_rights: %s\\n\" % e)"
   ]
  }
 ],
 "metadata": {
  "celltoolbar": "Slideshow",
  "kernelspec": {
   "display_name": "Python 3",
   "language": "python",
   "name": "python3"
  },
  "language_info": {
   "codemirror_mode": {
    "name": "ipython",
    "version": 3
   },
   "file_extension": ".py",
   "mimetype": "text/x-python",
   "name": "python",
   "nbconvert_exporter": "python",
   "pygments_lexer": "ipython3",
   "version": "3.6.8"
  }
 },
 "nbformat": 4,
 "nbformat_minor": 4
}
